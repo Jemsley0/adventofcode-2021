{
 "cells": [
  {
   "cell_type": "code",
   "execution_count": 8,
   "id": "9e20601c-cee9-441d-9200-8f2b124fc199",
   "metadata": {},
   "outputs": [],
   "source": [
    "# part 1"
   ]
  },
  {
   "cell_type": "code",
   "execution_count": 3,
   "id": "2695604a-95a2-430b-89cc-6768cb637f7d",
   "metadata": {},
   "outputs": [],
   "source": [
    "with open('input.txt') as f:\n",
    "    lines = f.readlines()"
   ]
  },
  {
   "cell_type": "code",
   "execution_count": 6,
   "id": "b1495142-d108-4813-910d-1ae0ca1f1194",
   "metadata": {},
   "outputs": [],
   "source": [
    "horiz = 0\n",
    "depth = 0\n",
    "\n",
    "for string in lines:\n",
    "    new_string = string.replace('\\n', '')\n",
    "    coordinate = new_string.split()\n",
    "    if coordinate[0] == 'forward':\n",
    "        horiz += int(coordinate[1])\n",
    "    elif coordinate[0] == 'down':\n",
    "        depth += int(coordinate[1])\n",
    "    elif coordinate[0] == 'up':\n",
    "        depth -= int(coordinate[1])"
   ]
  },
  {
   "cell_type": "code",
   "execution_count": 7,
   "id": "3f771c64-8d97-40ce-b878-92b5aecce8fd",
   "metadata": {},
   "outputs": [
    {
     "data": {
      "text/plain": [
       "1694130"
      ]
     },
     "execution_count": 7,
     "metadata": {},
     "output_type": "execute_result"
    }
   ],
   "source": [
    "horiz * depth"
   ]
  },
  {
   "cell_type": "code",
   "execution_count": 9,
   "id": "e4b2770d-8dce-4ab1-9642-1ee37f985fb2",
   "metadata": {},
   "outputs": [],
   "source": [
    "# part 2"
   ]
  },
  {
   "cell_type": "code",
   "execution_count": 12,
   "id": "9d2f204d-fb69-405f-b3fa-6b76dccb6a87",
   "metadata": {},
   "outputs": [],
   "source": [
    "horiz = 0\n",
    "depth = 0\n",
    "aim = 0\n",
    "\n",
    "for string in lines:\n",
    "    new_string = string.replace('\\n', '')\n",
    "    coordinate = new_string.split()\n",
    "    if coordinate[0] == 'down':\n",
    "        aim += int(coordinate[1])\n",
    "    elif coordinate[0] == 'up':\n",
    "        aim -= int(coordinate[1])\n",
    "    elif coordinate[0] == 'forward':\n",
    "        horiz += int(coordinate[1])\n",
    "        depth = depth + aim * int(coordinate[1])"
   ]
  },
  {
   "cell_type": "code",
   "execution_count": 13,
   "id": "e2146677-0998-4b3d-a367-78b56489b174",
   "metadata": {},
   "outputs": [
    {
     "data": {
      "text/plain": [
       "1698850445"
      ]
     },
     "execution_count": 13,
     "metadata": {},
     "output_type": "execute_result"
    }
   ],
   "source": [
    "horiz * depth"
   ]
  },
  {
   "cell_type": "code",
   "execution_count": null,
   "id": "fc5fad5a-ab8d-45ad-b6ee-43e1c0498c20",
   "metadata": {},
   "outputs": [],
   "source": []
  }
 ],
 "metadata": {
  "kernelspec": {
   "display_name": "Python 3 (ipykernel)",
   "language": "python",
   "name": "python3"
  },
  "language_info": {
   "codemirror_mode": {
    "name": "ipython",
    "version": 3
   },
   "file_extension": ".py",
   "mimetype": "text/x-python",
   "name": "python",
   "nbconvert_exporter": "python",
   "pygments_lexer": "ipython3",
   "version": "3.9.0"
  }
 },
 "nbformat": 4,
 "nbformat_minor": 5
}
